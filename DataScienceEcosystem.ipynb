{
 "cells": [
  {
   "cell_type": "markdown",
   "id": "3f34f648-3b1f-41f8-b12f-c19aede66a07",
   "metadata": {},
   "source": [
    "# Data Science Tools and Ecosystem"
   ]
  },
  {
   "cell_type": "markdown",
   "id": "37b7be55-edb8-4917-9298-282d9b5ecbe3",
   "metadata": {},
   "source": [
    "In this notebook, I reflect on what I have learnt from this course."
   ]
  },
  {
   "cell_type": "markdown",
   "id": "02b5fc2b-5e9e-4f57-9537-2a147eaec0f9",
   "metadata": {},
   "source": [
    "__Objectives:__\n",
    "- Hands-on with R Programming\n",
    "- Learn how to use markdown cell in python\n",
    "- Hands-on with Jupyter notebook"
   ]
  },
  {
   "cell_type": "markdown",
   "id": "df65a024-f99f-405b-8299-5cf763798495",
   "metadata": {},
   "source": [
    "Some of the popular languages tht Data Scientists use are:\n",
    "1. Python\n",
    "2. R Programming\n",
    "3. C++\n",
    "4. SQL"
   ]
  },
  {
   "cell_type": "markdown",
   "id": "c3ca0b72-5a09-4e14-a987-1c47362ba07c",
   "metadata": {},
   "source": [
    "Some of the commonly used libraries used by Data Scientists include:\n",
    "1. Tensorflow\n",
    "2. pandas\n",
    "3. numpy\n",
    "4. Matplotlib"
   ]
  },
  {
   "cell_type": "markdown",
   "id": "c279bc21-0013-418c-8041-4cd6d1eb04cd",
   "metadata": {},
   "source": [
    "| Data Science Tools |\r\n",
    "|----------|\r\n",
    "MySQL| |\r",
    "PostgreSQL \n",
    "| Apache Airflow|3 |"
   ]
  },
  {
   "cell_type": "markdown",
   "id": "690d93a8-1442-4a11-bfad-bee01d923247",
   "metadata": {},
   "source": [
    "### Below are a few examples of evaluating arithmetic expressions in Python"
   ]
  },
  {
   "cell_type": "code",
   "execution_count": 1,
   "id": "ecfc2d52-972d-48d9-9a7b-18d90435f21e",
   "metadata": {},
   "outputs": [
    {
     "data": {
      "text/plain": [
       "17"
      ]
     },
     "execution_count": 1,
     "metadata": {},
     "output_type": "execute_result"
    }
   ],
   "source": [
    "(3*4)+5\n",
    "#This is a simple arithmetic expression to mutiply then add integers"
   ]
  },
  {
   "cell_type": "code",
   "execution_count": 2,
   "id": "40f834f9-d4b5-4d60-b38d-3fd1bdc1a20c",
   "metadata": {},
   "outputs": [
    {
     "data": {
      "text/plain": [
       "3.3333333333333335"
      ]
     },
     "execution_count": 2,
     "metadata": {},
     "output_type": "execute_result"
    }
   ],
   "source": [
    "200/60 #This will convert 200 minutes to hours by dividing by 60"
   ]
  },
  {
   "cell_type": "markdown",
   "id": "5f8bd814-5e0b-414a-af0e-6d5055613df7",
   "metadata": {},
   "source": [
    "## Author\n",
    "Name: Chou Yew"
   ]
  },
  {
   "cell_type": "code",
   "execution_count": null,
   "id": "9402b816-edf1-4d9d-945b-a322a3eb29d9",
   "metadata": {},
   "outputs": [],
   "source": []
  }
 ],
 "metadata": {
  "kernelspec": {
   "display_name": "Python 3 (ipykernel)",
   "language": "python",
   "name": "python3"
  },
  "language_info": {
   "codemirror_mode": {
    "name": "ipython",
    "version": 3
   },
   "file_extension": ".py",
   "mimetype": "text/x-python",
   "name": "python",
   "nbconvert_exporter": "python",
   "pygments_lexer": "ipython3",
   "version": "3.10.13"
  }
 },
 "nbformat": 4,
 "nbformat_minor": 5
}
